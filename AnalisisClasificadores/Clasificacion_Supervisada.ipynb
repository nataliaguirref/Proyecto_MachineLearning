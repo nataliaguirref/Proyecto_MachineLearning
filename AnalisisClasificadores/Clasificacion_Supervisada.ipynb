{
  "nbformat": 4,
  "nbformat_minor": 0,
  "metadata": {
    "colab": {
      "name": "Clasificacion_Supervisada.ipynb",
      "provenance": []
    },
    "kernelspec": {
      "name": "python3",
      "display_name": "Python 3"
    },
    "language_info": {
      "name": "python"
    }
  },
  "cells": [
    {
      "cell_type": "code",
      "metadata": {
        "id": "L9rm-Kg7EsIw"
      },
      "source": [
        "import pandas as pd\n",
        "import numpy as np\n",
        "\n",
        "df_resultados = pd.read_csv('drive/MyDrive/Predicciones/Resultados.csv')\n",
        "resultados2013 =df_resultados[df_resultados.Año > 2012]\n",
        "resultados1 = resultados2013[['Pos_Inact_Inicial', 'Pos_Inact_Final', 'Removidos', 'Reactivos', 'FFVV_inicial', 'FFVV_final', 'Old Actives', 'Activos', 'No_activos', 'Reclutados', 'Inscritos']][resultados2013.reclutamiento == 1]"
      ],
      "execution_count": 3,
      "outputs": []
    },
    {
      "cell_type": "code",
      "metadata": {
        "colab": {
          "base_uri": "https://localhost:8080/"
        },
        "id": "E0fE2y4WFHPn",
        "outputId": "a9e5bc32-03bf-499b-efa0-9aeaf9dcf894"
      },
      "source": [
        "from sklearn import preprocessing, svm \n",
        "from sklearn.model_selection import train_test_split \n",
        "from sklearn.linear_model import LinearRegression \n",
        "from sklearn.metrics import mean_squared_error\n",
        "from sklearn.preprocessing import PolynomialFeatures\n",
        "from matplotlib import pyplot as plt\n",
        "from sklearn.neural_network import MLPClassifier\n",
        "from sklearn.datasets.samples_generator import make_blobs\n",
        "from sklearn.datasets import make_classification \n",
        "from sklearn.model_selection import train_test_split"
      ],
      "execution_count": 4,
      "outputs": [
        {
          "output_type": "stream",
          "text": [
            "/usr/local/lib/python3.7/dist-packages/sklearn/utils/deprecation.py:144: FutureWarning: The sklearn.datasets.samples_generator module is  deprecated in version 0.22 and will be removed in version 0.24. The corresponding classes / functions should instead be imported from sklearn.datasets. Anything that cannot be imported from sklearn.datasets is now part of the private API.\n",
            "  warnings.warn(message, FutureWarning)\n"
          ],
          "name": "stderr"
        }
      ]
    },
    {
      "cell_type": "markdown",
      "metadata": {
        "id": "qfAculwrFn00"
      },
      "source": [
        "#Clasificación supervisada"
      ]
    },
    {
      "cell_type": "markdown",
      "metadata": {
        "id": "aEESlPC7FyLh"
      },
      "source": [
        "##Regresión Lineal"
      ]
    },
    {
      "cell_type": "code",
      "metadata": {
        "id": "8vwUpyrRFxmi"
      },
      "source": [
        "X = resultados1[['FFVV_final','Activos']]\n",
        "Y = resultados1['Reclutados']"
      ],
      "execution_count": 6,
      "outputs": []
    },
    {
      "cell_type": "code",
      "metadata": {
        "id": "SWZnwIm5Fpns"
      },
      "source": [
        "X_train, X_test, Y_train, Y_test = train_test_split(X, Y, test_size = 0.4, random_state=5)"
      ],
      "execution_count": 7,
      "outputs": []
    },
    {
      "cell_type": "code",
      "metadata": {
        "colab": {
          "base_uri": "https://localhost:8080/"
        },
        "id": "GoYm1scFGBmh",
        "outputId": "b9d0314e-ecaf-4aed-baba-69ad44d8e16d"
      },
      "source": [
        "lin_model = LinearRegression()\n",
        "lin_model.fit(X_train, Y_train)"
      ],
      "execution_count": 8,
      "outputs": [
        {
          "output_type": "execute_result",
          "data": {
            "text/plain": [
              "LinearRegression(copy_X=True, fit_intercept=True, n_jobs=None, normalize=False)"
            ]
          },
          "metadata": {
            "tags": []
          },
          "execution_count": 8
        }
      ]
    },
    {
      "cell_type": "code",
      "metadata": {
        "colab": {
          "base_uri": "https://localhost:8080/",
          "height": 390
        },
        "id": "2yigCeBrGDoy",
        "outputId": "1ad5b83c-9ff6-48f4-8628-4c3aaaf84d41"
      },
      "source": [
        "y_train_predict = lin_model.predict(X_train)\n",
        "MSE = mean_squared_error(Y_train,y_train_predict)\n",
        "print(\"Entrenamiento: MSE =\"+str(MSE))\n",
        "\n",
        "y_test_predict = lin_model.predict(X_test)\n",
        "MSE = (mean_squared_error(Y_test, y_test_predict))\n",
        "print(\"Pruebas: MSE =\"+str(MSE))\n",
        "\n",
        "df_predicciones = pd.DataFrame({'valor_real':Y_test, 'prediccion':y_test_predict, 'diferencia':Y_test-y_test_predict})\n",
        "df_predicciones = df_predicciones.reset_index(drop = True)\n",
        "df_predicciones.head(10)"
      ],
      "execution_count": 9,
      "outputs": [
        {
          "output_type": "stream",
          "text": [
            "Entrenamiento: MSE =9075805.153431984\n",
            "Pruebas: MSE =9269696.680720726\n"
          ],
          "name": "stdout"
        },
        {
          "output_type": "execute_result",
          "data": {
            "text/html": [
              "<div>\n",
              "<style scoped>\n",
              "    .dataframe tbody tr th:only-of-type {\n",
              "        vertical-align: middle;\n",
              "    }\n",
              "\n",
              "    .dataframe tbody tr th {\n",
              "        vertical-align: top;\n",
              "    }\n",
              "\n",
              "    .dataframe thead th {\n",
              "        text-align: right;\n",
              "    }\n",
              "</style>\n",
              "<table border=\"1\" class=\"dataframe\">\n",
              "  <thead>\n",
              "    <tr style=\"text-align: right;\">\n",
              "      <th></th>\n",
              "      <th>valor_real</th>\n",
              "      <th>prediccion</th>\n",
              "      <th>diferencia</th>\n",
              "    </tr>\n",
              "  </thead>\n",
              "  <tbody>\n",
              "    <tr>\n",
              "      <th>0</th>\n",
              "      <td>13025</td>\n",
              "      <td>13192.357063</td>\n",
              "      <td>-167.357063</td>\n",
              "    </tr>\n",
              "    <tr>\n",
              "      <th>1</th>\n",
              "      <td>15949</td>\n",
              "      <td>12798.619464</td>\n",
              "      <td>3150.380536</td>\n",
              "    </tr>\n",
              "    <tr>\n",
              "      <th>2</th>\n",
              "      <td>12798</td>\n",
              "      <td>12532.016336</td>\n",
              "      <td>265.983664</td>\n",
              "    </tr>\n",
              "    <tr>\n",
              "      <th>3</th>\n",
              "      <td>11404</td>\n",
              "      <td>8442.656498</td>\n",
              "      <td>2961.343502</td>\n",
              "    </tr>\n",
              "    <tr>\n",
              "      <th>4</th>\n",
              "      <td>13401</td>\n",
              "      <td>14796.349312</td>\n",
              "      <td>-1395.349312</td>\n",
              "    </tr>\n",
              "    <tr>\n",
              "      <th>5</th>\n",
              "      <td>13694</td>\n",
              "      <td>9085.050735</td>\n",
              "      <td>4608.949265</td>\n",
              "    </tr>\n",
              "    <tr>\n",
              "      <th>6</th>\n",
              "      <td>20142</td>\n",
              "      <td>17111.717499</td>\n",
              "      <td>3030.282501</td>\n",
              "    </tr>\n",
              "    <tr>\n",
              "      <th>7</th>\n",
              "      <td>16463</td>\n",
              "      <td>14267.244549</td>\n",
              "      <td>2195.755451</td>\n",
              "    </tr>\n",
              "    <tr>\n",
              "      <th>8</th>\n",
              "      <td>6301</td>\n",
              "      <td>14498.015951</td>\n",
              "      <td>-8197.015951</td>\n",
              "    </tr>\n",
              "    <tr>\n",
              "      <th>9</th>\n",
              "      <td>8624</td>\n",
              "      <td>7719.583034</td>\n",
              "      <td>904.416966</td>\n",
              "    </tr>\n",
              "  </tbody>\n",
              "</table>\n",
              "</div>"
            ],
            "text/plain": [
              "   valor_real    prediccion   diferencia\n",
              "0       13025  13192.357063  -167.357063\n",
              "1       15949  12798.619464  3150.380536\n",
              "2       12798  12532.016336   265.983664\n",
              "3       11404   8442.656498  2961.343502\n",
              "4       13401  14796.349312 -1395.349312\n",
              "5       13694   9085.050735  4608.949265\n",
              "6       20142  17111.717499  3030.282501\n",
              "7       16463  14267.244549  2195.755451\n",
              "8        6301  14498.015951 -8197.015951\n",
              "9        8624   7719.583034   904.416966"
            ]
          },
          "metadata": {
            "tags": []
          },
          "execution_count": 9
        }
      ]
    },
    {
      "cell_type": "code",
      "metadata": {
        "id": "CfD8BsybGGlI"
      },
      "source": [
        ""
      ],
      "execution_count": null,
      "outputs": []
    }
  ]
}