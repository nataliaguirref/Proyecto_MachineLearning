{
  "nbformat": 4,
  "nbformat_minor": 0,
  "metadata": {
    "colab": {
      "name": "Clasificadores.ipynb",
      "provenance": []
    },
    "kernelspec": {
      "name": "python3",
      "display_name": "Python 3"
    },
    "language_info": {
      "name": "python"
    }
  },
  "cells": [
    {
      "cell_type": "code",
      "metadata": {
        "id": "WOclsP5VGORU"
      },
      "source": [
        "import pandas as pd\n",
        "import numpy as np\n",
        "\n",
        "df_resultados = pd.read_csv('drive/MyDrive/Predicciones/Resultados.csv')\n",
        "resultados2013 =df_resultados[df_resultados.Año > 2012]\n",
        "resultados1 = resultados2013[['Pos_Inact_Inicial', 'Pos_Inact_Final', 'Removidos', 'Reactivos', 'FFVV_inicial', 'FFVV_final', 'Old Actives', 'Activos', 'No_activos', 'Reclutados', 'Inscritos']][resultados2013.reclutamiento == 1]"
      ],
      "execution_count": 4,
      "outputs": []
    },
    {
      "cell_type": "code",
      "metadata": {
        "id": "ZbvAfobbGtd7"
      },
      "source": [
        "from sklearn import preprocessing, svm \n",
        "from sklearn.model_selection import train_test_split \n",
        "from sklearn.linear_model import LinearRegression \n",
        "from sklearn.metrics import mean_squared_error\n",
        "from sklearn.preprocessing import PolynomialFeatures\n",
        "from matplotlib import pyplot as plt\n",
        "from sklearn.neural_network import MLPClassifier\n",
        "from sklearn.datasets.samples_generator import make_blobs\n",
        "from sklearn.datasets import make_classification \n",
        "from sklearn.model_selection import train_test_split\n",
        "from sklearn.metrics import confusion_matrix"
      ],
      "execution_count": 23,
      "outputs": []
    },
    {
      "cell_type": "markdown",
      "metadata": {
        "id": "dwxXdQ7FGyZc"
      },
      "source": [
        "##Clasificadores y Redes Neuronales Artificiales"
      ]
    },
    {
      "cell_type": "code",
      "metadata": {
        "id": "bOR7XFc5HALm"
      },
      "source": [
        "X = resultados1[['FFVV_final','Activos']]\n",
        "Y = resultados1['Reclutados']"
      ],
      "execution_count": 16,
      "outputs": []
    },
    {
      "cell_type": "code",
      "metadata": {
        "colab": {
          "base_uri": "https://localhost:8080/",
          "height": 265
        },
        "id": "sPPSUBERHDUU",
        "outputId": "a9733eb6-f9b2-41c1-8b1d-0ab407d65d96"
      },
      "source": [
        "X, Y = make_classification(n_samples=100, n_classes=2, n_features=10)\n",
        "plt.scatter(X[:,0], X[:,1], c=Y)\n",
        "plt.show()\n",
        "\n",
        "X_train, X_test, Y_train, Y_test = train_test_split(X,Y,test_size=0.4)"
      ],
      "execution_count": 17,
      "outputs": [
        {
          "output_type": "display_data",
          "data": {
            "image/png": "[encoded data removed]",
            "text/plain": [
              "<Figure size 432x288 with 1 Axes>"
            ]
          },
          "metadata": {
            "tags": [],
            "needs_background": "light"
          }
        }
      ]
    },
    {
      "cell_type": "code",
      "metadata": {
        "id": "BWZMAfyaHQrh"
      },
      "source": [
        "def calcularAccuracy(TP, TN, FP, FN):\n",
        "    accuracy = (TP + TN) / (TP + TN + FP + FN)\n",
        "    accuracy = accuracy * 100\n",
        "    return accuracy\n",
        "def calcularSensibilidad(TP, TN, FP, FN):\n",
        "    sensibilidad = TP / (TP + FN)\n",
        "    sensibilidad = sensibilidad * 100\n",
        "    return sensibilidad\n",
        "def calcularEspecificidad(TP, TN, FP, FN):\n",
        "    especificidad = TN / (TN + FP)\n",
        "    especificidad = especificidad * 100\n",
        "    return especificidad\n",
        "\n",
        "def evaluar(Y_test, Y_pred):\n",
        "    resultado = confusion_matrix(Y_test, Y_pred)\n",
        "    print(resultado)\n",
        "    (TN, FP, FN, TP) = resultado.ravel()\n",
        "    print(\"True positives: \"+str(TP))\n",
        "    print(\"True negatives: \"+str(TN))\n",
        "    print(\"False positives: \"+str(FP))\n",
        "    print(\"False negative: \"+str(FN))\n",
        "\n",
        "    acc = calcularAccuracy(TP, TN, FP, FN)\n",
        "    sen = calcularSensibilidad(TP, TN, FP, FN)\n",
        "    spec = calcularEspecificidad(TP, TN, FP, FN)\n",
        "    print(\"Precision:\"+str(acc)+\"%\")\n",
        "    print(\"Sensibilidad:\"+str(sen)+\"%\")\n",
        "    print(\"Especificidad:\"+str(spec)+\"%\")"
      ],
      "execution_count": 25,
      "outputs": []
    },
    {
      "cell_type": "markdown",
      "metadata": {
        "id": "hFHCmlrpG5zg"
      },
      "source": [
        "###Random Forest"
      ]
    },
    {
      "cell_type": "code",
      "metadata": {
        "id": "94NZPGy2G5Z8"
      },
      "source": [
        "from sklearn.ensemble import RandomForestClassifier\n",
        "RandomForest = RandomForestClassifier(n_estimators = 800)\n",
        "RandomForest.fit(X_train, Y_train)\n",
        "Y_pred_rfc = RandomForest.predict(X_test)"
      ],
      "execution_count": 26,
      "outputs": []
    },
    {
      "cell_type": "code",
      "metadata": {
        "colab": {
          "base_uri": "https://localhost:8080/"
        },
        "id": "S6tKE3Z-Hdel",
        "outputId": "48069f16-9a79-4ae9-99d8-ba9390ae14b3"
      },
      "source": [
        "evaluar(Y_test, Y_pred_rfc)"
      ],
      "execution_count": 27,
      "outputs": [
        {
          "output_type": "stream",
          "text": [
            "[[18  1]\n",
            " [ 1 20]]\n",
            "True positives: 20\n",
            "True negatives: 18\n",
            "False positives: 1\n",
            "False negative: 1\n",
            "Precision:95.0%\n",
            "Sensibilidad:95.23809523809523%\n",
            "Especificidad:94.73684210526315%\n"
          ],
          "name": "stdout"
        }
      ]
    },
    {
      "cell_type": "markdown",
      "metadata": {
        "id": "mgOeJlAEIivO"
      },
      "source": [
        "###Redes Neuronales Artificiales"
      ]
    },
    {
      "cell_type": "code",
      "metadata": {
        "id": "dPKb4bJYHe32"
      },
      "source": [
        "from sklearn.neural_network import MLPClassifier\n",
        "NeuralNetwork = MLPClassifier(hidden_layer_sizes=(10,4),\n",
        "                            max_iter=20000,\n",
        "                            activation ='logistic',\n",
        "                            tol= 1e-8)\n",
        "\n",
        "NeuralNetwork.fit(X_train, Y_train)\n",
        "Y_pred_nn = NeuralNetwork.predict(X_test)"
      ],
      "execution_count": 28,
      "outputs": []
    },
    {
      "cell_type": "code",
      "metadata": {
        "colab": {
          "base_uri": "https://localhost:8080/"
        },
        "id": "68e8kgKDIobq",
        "outputId": "559d6547-a804-4297-fb65-63e6cd6631cd"
      },
      "source": [
        "evaluar(Y_test, Y_pred_nn)"
      ],
      "execution_count": 29,
      "outputs": [
        {
          "output_type": "stream",
          "text": [
            "[[18  1]\n",
            " [ 4 17]]\n",
            "True positives: 17\n",
            "True negatives: 18\n",
            "False positives: 1\n",
            "False negative: 4\n",
            "Precision:87.5%\n",
            "Sensibilidad:80.95238095238095%\n",
            "Especificidad:94.73684210526315%\n"
          ],
          "name": "stdout"
        }
      ]
    },
    {
      "cell_type": "markdown",
      "metadata": {
        "id": "pxmGAjCnI9Yq"
      },
      "source": [
        "###Support Vector Machine"
      ]
    },
    {
      "cell_type": "code",
      "metadata": {
        "id": "ioAY8n4DI6Mq"
      },
      "source": [
        "from sklearn.svm import SVC #Support Vector Classifier\n",
        "from sklearn.pipeline import make_pipeline\n",
        "\n",
        "SupportVectorMachine = SVC()\n",
        "SupportVectorMachine.fit(X_train, Y_train) \n",
        "Y_pred_svm = SupportVectorMachine.predict(X_test) "
      ],
      "execution_count": 30,
      "outputs": []
    },
    {
      "cell_type": "code",
      "metadata": {
        "colab": {
          "base_uri": "https://localhost:8080/"
        },
        "id": "L2iiofATJArl",
        "outputId": "fb7d129a-43c1-4974-9474-335f48a50c3d"
      },
      "source": [
        "evaluar(Y_test, Y_pred_svm)"
      ],
      "execution_count": 31,
      "outputs": [
        {
          "output_type": "stream",
          "text": [
            "[[18  1]\n",
            " [ 4 17]]\n",
            "True positives: 17\n",
            "True negatives: 18\n",
            "False positives: 1\n",
            "False negative: 4\n",
            "Precision:87.5%\n",
            "Sensibilidad:80.95238095238095%\n",
            "Especificidad:94.73684210526315%\n"
          ],
          "name": "stdout"
        }
      ]
    }
  ]
}