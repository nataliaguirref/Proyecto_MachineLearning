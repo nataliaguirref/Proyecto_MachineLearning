{
  "nbformat": 4,
  "nbformat_minor": 0,
  "metadata": {
    "colab": {
      "name": "Análisis_Reclutados.ipynb",
      "provenance": []
    },
    "kernelspec": {
      "name": "python3",
      "display_name": "Python 3"
    },
    "language_info": {
      "name": "python"
    }
  },
  "cells": [
    {
      "cell_type": "code",
      "metadata": {
        "id": "9m_yRT0DB7_0"
      },
      "source": [
        "import pandas as pd\n",
        "import numpy as np"
      ],
      "execution_count": 1,
      "outputs": []
    },
    {
      "cell_type": "code",
      "metadata": {
        "id": "BZ5ItdWMB9PX"
      },
      "source": [
        "df_resultados = pd.read_csv('drive/MyDrive/Predicciones/Resultados.csv')"
      ],
      "execution_count": 3,
      "outputs": []
    },
    {
      "cell_type": "code",
      "metadata": {
        "colab": {
          "base_uri": "https://localhost:8080/",
          "height": 307
        },
        "id": "NlN75CdvB9Bv",
        "outputId": "d4aea5ff-cee7-419c-d989-baff552b38ca"
      },
      "source": [
        "resultados2013 =df_resultados[df_resultados.Año > 2012]\n",
        "resultados2013.head()"
      ],
      "execution_count": 5,
      "outputs": [
        {
          "output_type": "execute_result",
          "data": {
            "text/html": [
              "<div>\n",
              "<style scoped>\n",
              "    .dataframe tbody tr th:only-of-type {\n",
              "        vertical-align: middle;\n",
              "    }\n",
              "\n",
              "    .dataframe tbody tr th {\n",
              "        vertical-align: top;\n",
              "    }\n",
              "\n",
              "    .dataframe thead th {\n",
              "        text-align: right;\n",
              "    }\n",
              "</style>\n",
              "<table border=\"1\" class=\"dataframe\">\n",
              "  <thead>\n",
              "    <tr style=\"text-align: right;\">\n",
              "      <th></th>\n",
              "      <th>Año</th>\n",
              "      <th>Catalogo</th>\n",
              "      <th>Pos_Inact_Inicial</th>\n",
              "      <th>Pos_Inact_Final</th>\n",
              "      <th>Removidos</th>\n",
              "      <th>Reactivos</th>\n",
              "      <th>FFVV_inicial</th>\n",
              "      <th>FFVV_final</th>\n",
              "      <th>Old Actives</th>\n",
              "      <th>Activos</th>\n",
              "      <th>No_activos</th>\n",
              "      <th>Reclutados</th>\n",
              "      <th>Inscritos</th>\n",
              "      <th>Tasa_Rec</th>\n",
              "      <th>Conversion_Rec</th>\n",
              "      <th>Descripcion</th>\n",
              "      <th>Tipo</th>\n",
              "      <th>reclutamiento</th>\n",
              "      <th>actividad</th>\n",
              "      <th>reactivacion</th>\n",
              "      <th>clasificador</th>\n",
              "    </tr>\n",
              "  </thead>\n",
              "  <tbody>\n",
              "    <tr>\n",
              "      <th>34</th>\n",
              "      <td>2013</td>\n",
              "      <td>C01</td>\n",
              "      <td>12861</td>\n",
              "      <td>11577</td>\n",
              "      <td>11162</td>\n",
              "      <td>2096</td>\n",
              "      <td>68740</td>\n",
              "      <td>62566</td>\n",
              "      <td>38000</td>\n",
              "      <td>40892</td>\n",
              "      <td>21674</td>\n",
              "      <td>2892</td>\n",
              "      <td>4992</td>\n",
              "      <td>0.042072</td>\n",
              "      <td>0.579327</td>\n",
              "      <td>NaN</td>\n",
              "      <td>RR</td>\n",
              "      <td>1</td>\n",
              "      <td>1</td>\n",
              "      <td>0</td>\n",
              "      <td>bajo</td>\n",
              "    </tr>\n",
              "    <tr>\n",
              "      <th>35</th>\n",
              "      <td>2013</td>\n",
              "      <td>C02</td>\n",
              "      <td>11577</td>\n",
              "      <td>7199</td>\n",
              "      <td>9541</td>\n",
              "      <td>7065</td>\n",
              "      <td>62566</td>\n",
              "      <td>62713</td>\n",
              "      <td>43749</td>\n",
              "      <td>46372</td>\n",
              "      <td>16341</td>\n",
              "      <td>2623</td>\n",
              "      <td>6286</td>\n",
              "      <td>0.041924</td>\n",
              "      <td>0.417276</td>\n",
              "      <td>NaN</td>\n",
              "      <td>NaN</td>\n",
              "      <td>0</td>\n",
              "      <td>1</td>\n",
              "      <td>0</td>\n",
              "      <td>bajo</td>\n",
              "    </tr>\n",
              "    <tr>\n",
              "      <th>36</th>\n",
              "      <td>2013</td>\n",
              "      <td>C03</td>\n",
              "      <td>7199</td>\n",
              "      <td>6623</td>\n",
              "      <td>6220</td>\n",
              "      <td>2079</td>\n",
              "      <td>62713</td>\n",
              "      <td>68836</td>\n",
              "      <td>38476</td>\n",
              "      <td>48740</td>\n",
              "      <td>20096</td>\n",
              "      <td>10264</td>\n",
              "      <td>16843</td>\n",
              "      <td>0.163666</td>\n",
              "      <td>0.609393</td>\n",
              "      <td>W2 Y W3 c3 y w1 y w2 C4- Red Power Collection ...</td>\n",
              "      <td>PR21</td>\n",
              "      <td>1</td>\n",
              "      <td>1</td>\n",
              "      <td>0</td>\n",
              "      <td>medio alto</td>\n",
              "    </tr>\n",
              "    <tr>\n",
              "      <th>37</th>\n",
              "      <td>2013</td>\n",
              "      <td>C04</td>\n",
              "      <td>6623</td>\n",
              "      <td>9167</td>\n",
              "      <td>5374</td>\n",
              "      <td>2507</td>\n",
              "      <td>68836</td>\n",
              "      <td>79353</td>\n",
              "      <td>42254</td>\n",
              "      <td>55638</td>\n",
              "      <td>23715</td>\n",
              "      <td>13384</td>\n",
              "      <td>16024</td>\n",
              "      <td>0.194433</td>\n",
              "      <td>0.835247</td>\n",
              "      <td>NaN</td>\n",
              "      <td>PR22</td>\n",
              "      <td>1</td>\n",
              "      <td>1</td>\n",
              "      <td>0</td>\n",
              "      <td>medio alto</td>\n",
              "    </tr>\n",
              "    <tr>\n",
              "      <th>38</th>\n",
              "      <td>2013</td>\n",
              "      <td>C05</td>\n",
              "      <td>9167</td>\n",
              "      <td>11193</td>\n",
              "      <td>7850</td>\n",
              "      <td>1529</td>\n",
              "      <td>79353</td>\n",
              "      <td>75840</td>\n",
              "      <td>45749</td>\n",
              "      <td>48557</td>\n",
              "      <td>27283</td>\n",
              "      <td>2808</td>\n",
              "      <td>6520</td>\n",
              "      <td>0.035386</td>\n",
              "      <td>0.430675</td>\n",
              "      <td>NaN</td>\n",
              "      <td>NaN</td>\n",
              "      <td>0</td>\n",
              "      <td>1</td>\n",
              "      <td>0</td>\n",
              "      <td>bajo</td>\n",
              "    </tr>\n",
              "  </tbody>\n",
              "</table>\n",
              "</div>"
            ],
            "text/plain": [
              "     Año Catalogo  Pos_Inact_Inicial  ...  actividad  reactivacion  clasificador\n",
              "34  2013      C01              12861  ...          1             0          bajo\n",
              "35  2013      C02              11577  ...          1             0          bajo\n",
              "36  2013      C03               7199  ...          1             0    medio alto\n",
              "37  2013      C04               6623  ...          1             0    medio alto\n",
              "38  2013      C05               9167  ...          1             0          bajo\n",
              "\n",
              "[5 rows x 21 columns]"
            ]
          },
          "metadata": {
            "tags": []
          },
          "execution_count": 5
        }
      ]
    },
    {
      "cell_type": "code",
      "metadata": {
        "colab": {
          "base_uri": "https://localhost:8080/"
        },
        "id": "ASC5mKXgCC-q",
        "outputId": "cdb75f40-1dd3-431b-d826-bf7a37402a8f"
      },
      "source": [
        "programa = resultados2013['Reclutados'].groupby(resultados2013.reclutamiento).mean()\n",
        "programa"
      ],
      "execution_count": 6,
      "outputs": [
        {
          "output_type": "execute_result",
          "data": {
            "text/plain": [
              "reclutamiento\n",
              "0     6229.766667\n",
              "1    11996.122807\n",
              "Name: Reclutados, dtype: float64"
            ]
          },
          "metadata": {
            "tags": []
          },
          "execution_count": 6
        }
      ]
    },
    {
      "cell_type": "markdown",
      "metadata": {
        "id": "ZvsDfYkDCFFI"
      },
      "source": [
        "0 - No hay programa de reclutamiento\n",
        "\n",
        "1 - Hubo programa de reclutamiento"
      ]
    },
    {
      "cell_type": "code",
      "metadata": {
        "id": "FbyXTOQBCFwJ"
      },
      "source": [
        "resultados1 = resultados2013[['Pos_Inact_Inicial', 'Pos_Inact_Final', 'Removidos', 'Reactivos', 'FFVV_inicial', 'FFVV_final', 'Old Actives', 'Activos', 'No_activos', 'Reclutados', 'Inscritos']][resultados2013.reclutamiento == 1]"
      ],
      "execution_count": 7,
      "outputs": []
    },
    {
      "cell_type": "code",
      "metadata": {
        "colab": {
          "base_uri": "https://localhost:8080/",
          "height": 388
        },
        "id": "FKIkTqIBCJt2",
        "outputId": "20019b2f-73e9-4e3c-c81d-a9dd256b22df"
      },
      "source": [
        "resultados1.corr()"
      ],
      "execution_count": 8,
      "outputs": [
        {
          "output_type": "execute_result",
          "data": {
            "text/html": [
              "<div>\n",
              "<style scoped>\n",
              "    .dataframe tbody tr th:only-of-type {\n",
              "        vertical-align: middle;\n",
              "    }\n",
              "\n",
              "    .dataframe tbody tr th {\n",
              "        vertical-align: top;\n",
              "    }\n",
              "\n",
              "    .dataframe thead th {\n",
              "        text-align: right;\n",
              "    }\n",
              "</style>\n",
              "<table border=\"1\" class=\"dataframe\">\n",
              "  <thead>\n",
              "    <tr style=\"text-align: right;\">\n",
              "      <th></th>\n",
              "      <th>Pos_Inact_Inicial</th>\n",
              "      <th>Pos_Inact_Final</th>\n",
              "      <th>Removidos</th>\n",
              "      <th>Reactivos</th>\n",
              "      <th>FFVV_inicial</th>\n",
              "      <th>FFVV_final</th>\n",
              "      <th>Old Actives</th>\n",
              "      <th>Activos</th>\n",
              "      <th>No_activos</th>\n",
              "      <th>Reclutados</th>\n",
              "      <th>Inscritos</th>\n",
              "    </tr>\n",
              "  </thead>\n",
              "  <tbody>\n",
              "    <tr>\n",
              "      <th>Pos_Inact_Inicial</th>\n",
              "      <td>1.000000</td>\n",
              "      <td>0.467824</td>\n",
              "      <td>0.977177</td>\n",
              "      <td>0.353288</td>\n",
              "      <td>0.741813</td>\n",
              "      <td>0.605635</td>\n",
              "      <td>0.629041</td>\n",
              "      <td>0.570238</td>\n",
              "      <td>0.519313</td>\n",
              "      <td>0.041062</td>\n",
              "      <td>0.093396</td>\n",
              "    </tr>\n",
              "    <tr>\n",
              "      <th>Pos_Inact_Final</th>\n",
              "      <td>0.467824</td>\n",
              "      <td>1.000000</td>\n",
              "      <td>0.484497</td>\n",
              "      <td>0.215031</td>\n",
              "      <td>0.755845</td>\n",
              "      <td>0.714853</td>\n",
              "      <td>0.563869</td>\n",
              "      <td>0.517483</td>\n",
              "      <td>0.822848</td>\n",
              "      <td>0.060063</td>\n",
              "      <td>0.083680</td>\n",
              "    </tr>\n",
              "    <tr>\n",
              "      <th>Removidos</th>\n",
              "      <td>0.977177</td>\n",
              "      <td>0.484497</td>\n",
              "      <td>1.000000</td>\n",
              "      <td>0.348826</td>\n",
              "      <td>0.751872</td>\n",
              "      <td>0.601689</td>\n",
              "      <td>0.622029</td>\n",
              "      <td>0.549852</td>\n",
              "      <td>0.538420</td>\n",
              "      <td>-0.010974</td>\n",
              "      <td>0.041292</td>\n",
              "    </tr>\n",
              "    <tr>\n",
              "      <th>Reactivos</th>\n",
              "      <td>0.353288</td>\n",
              "      <td>0.215031</td>\n",
              "      <td>0.348826</td>\n",
              "      <td>1.000000</td>\n",
              "      <td>0.455312</td>\n",
              "      <td>0.512805</td>\n",
              "      <td>0.647249</td>\n",
              "      <td>0.583276</td>\n",
              "      <td>0.304222</td>\n",
              "      <td>0.029506</td>\n",
              "      <td>0.118242</td>\n",
              "    </tr>\n",
              "    <tr>\n",
              "      <th>FFVV_inicial</th>\n",
              "      <td>0.741813</td>\n",
              "      <td>0.755845</td>\n",
              "      <td>0.751872</td>\n",
              "      <td>0.455312</td>\n",
              "      <td>1.000000</td>\n",
              "      <td>0.965178</td>\n",
              "      <td>0.902074</td>\n",
              "      <td>0.862172</td>\n",
              "      <td>0.890466</td>\n",
              "      <td>0.222215</td>\n",
              "      <td>0.266215</td>\n",
              "    </tr>\n",
              "    <tr>\n",
              "      <th>FFVV_final</th>\n",
              "      <td>0.605635</td>\n",
              "      <td>0.714853</td>\n",
              "      <td>0.601689</td>\n",
              "      <td>0.512805</td>\n",
              "      <td>0.965178</td>\n",
              "      <td>1.000000</td>\n",
              "      <td>0.922796</td>\n",
              "      <td>0.931405</td>\n",
              "      <td>0.871161</td>\n",
              "      <td>0.409043</td>\n",
              "      <td>0.440680</td>\n",
              "    </tr>\n",
              "    <tr>\n",
              "      <th>Old Actives</th>\n",
              "      <td>0.629041</td>\n",
              "      <td>0.563869</td>\n",
              "      <td>0.622029</td>\n",
              "      <td>0.647249</td>\n",
              "      <td>0.902074</td>\n",
              "      <td>0.922796</td>\n",
              "      <td>1.000000</td>\n",
              "      <td>0.965341</td>\n",
              "      <td>0.661125</td>\n",
              "      <td>0.281542</td>\n",
              "      <td>0.340961</td>\n",
              "    </tr>\n",
              "    <tr>\n",
              "      <th>Activos</th>\n",
              "      <td>0.570238</td>\n",
              "      <td>0.517483</td>\n",
              "      <td>0.549852</td>\n",
              "      <td>0.583276</td>\n",
              "      <td>0.862172</td>\n",
              "      <td>0.931405</td>\n",
              "      <td>0.965341</td>\n",
              "      <td>1.000000</td>\n",
              "      <td>0.632687</td>\n",
              "      <td>0.522218</td>\n",
              "      <td>0.555238</td>\n",
              "    </tr>\n",
              "    <tr>\n",
              "      <th>No_activos</th>\n",
              "      <td>0.519313</td>\n",
              "      <td>0.822848</td>\n",
              "      <td>0.538420</td>\n",
              "      <td>0.304222</td>\n",
              "      <td>0.890466</td>\n",
              "      <td>0.871161</td>\n",
              "      <td>0.661125</td>\n",
              "      <td>0.632687</td>\n",
              "      <td>1.000000</td>\n",
              "      <td>0.165827</td>\n",
              "      <td>0.188592</td>\n",
              "    </tr>\n",
              "    <tr>\n",
              "      <th>Reclutados</th>\n",
              "      <td>0.041062</td>\n",
              "      <td>0.060063</td>\n",
              "      <td>-0.010974</td>\n",
              "      <td>0.029506</td>\n",
              "      <td>0.222215</td>\n",
              "      <td>0.409043</td>\n",
              "      <td>0.281542</td>\n",
              "      <td>0.522218</td>\n",
              "      <td>0.165827</td>\n",
              "      <td>1.000000</td>\n",
              "      <td>0.927245</td>\n",
              "    </tr>\n",
              "    <tr>\n",
              "      <th>Inscritos</th>\n",
              "      <td>0.093396</td>\n",
              "      <td>0.083680</td>\n",
              "      <td>0.041292</td>\n",
              "      <td>0.118242</td>\n",
              "      <td>0.266215</td>\n",
              "      <td>0.440680</td>\n",
              "      <td>0.340961</td>\n",
              "      <td>0.555238</td>\n",
              "      <td>0.188592</td>\n",
              "      <td>0.927245</td>\n",
              "      <td>1.000000</td>\n",
              "    </tr>\n",
              "  </tbody>\n",
              "</table>\n",
              "</div>"
            ],
            "text/plain": [
              "                   Pos_Inact_Inicial  Pos_Inact_Final  ...  Reclutados  Inscritos\n",
              "Pos_Inact_Inicial           1.000000         0.467824  ...    0.041062   0.093396\n",
              "Pos_Inact_Final             0.467824         1.000000  ...    0.060063   0.083680\n",
              "Removidos                   0.977177         0.484497  ...   -0.010974   0.041292\n",
              "Reactivos                   0.353288         0.215031  ...    0.029506   0.118242\n",
              "FFVV_inicial                0.741813         0.755845  ...    0.222215   0.266215\n",
              "FFVV_final                  0.605635         0.714853  ...    0.409043   0.440680\n",
              "Old Actives                 0.629041         0.563869  ...    0.281542   0.340961\n",
              "Activos                     0.570238         0.517483  ...    0.522218   0.555238\n",
              "No_activos                  0.519313         0.822848  ...    0.165827   0.188592\n",
              "Reclutados                  0.041062         0.060063  ...    1.000000   0.927245\n",
              "Inscritos                   0.093396         0.083680  ...    0.927245   1.000000\n",
              "\n",
              "[11 rows x 11 columns]"
            ]
          },
          "metadata": {
            "tags": []
          },
          "execution_count": 8
        }
      ]
    },
    {
      "cell_type": "code",
      "metadata": {
        "id": "NQ92Oqj4CKf_"
      },
      "source": [
        "import seaborn as sns\n",
        "import matplotlib.pyplot as plt"
      ],
      "execution_count": 9,
      "outputs": []
    },
    {
      "cell_type": "code",
      "metadata": {
        "colab": {
          "base_uri": "https://localhost:8080/",
          "height": 449
        },
        "id": "45PnNdwZCNSM",
        "outputId": "dc88d9e3-5a96-47fe-903c-0ee15f2553a0"
      },
      "source": [
        "plt.figure(figsize=(8, 6))\n",
        "ax = sns.heatmap(resultados1.corr(), vmin=-1, vmax=1, annot=True, cmap=\"YlGnBu\", linewidths=.5);"
      ],
      "execution_count": 10,
      "outputs": [
        {
          "output_type": "display_data",
          "data": {
            "image/png": "[encoded data removed]",
            "text/plain": [
              "<Figure size 576x432 with 2 Axes>"
            ]
          },
          "metadata": {
            "tags": [],
            "needs_background": "light"
          }
        }
      ]
    }
  ]
}